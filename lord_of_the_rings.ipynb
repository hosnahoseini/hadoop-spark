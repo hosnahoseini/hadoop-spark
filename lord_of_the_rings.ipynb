{
 "cells": [
  {
   "cell_type": "markdown",
   "id": "d9591e4e",
   "metadata": {},
   "source": [
    "<div align=\"middle\">\n",
    "  <h1><b><i>تمرین سوم</i></b></h1>\n",
    " </div>\n",
    "\n",
    "\n"
   ]
  },
  {
   "cell_type": "markdown",
   "id": "4d28df53",
   "metadata": {},
   "source": [
    "<div align=\"right\" dir=\"auto\">\n",
    "    \n",
    "   #  بخش اول:  هدوپ \n",
    "\n",
    "    ۱- به سوالات زیر پاسخ دهید\n",
    "    - مفهوم replication جیست\n",
    "    - مفهوم block در HDFS چیست و اگر بلاک‌ها را بسیار کوچک درنظر بگیریم چه مشکلی پیش می‌آید\n",
    "    \n",
    "</div>\n",
    "  \n",
    "    "
   ]
  },
  {
   "cell_type": "markdown",
   "id": "bc64c0b6",
   "metadata": {},
   "source": [
    "<div align=\"right\" dir=\"auto\">\n",
    "    الف) کلاستر HDFS برای اینکه از رخداد خطا‌های مختلف جلوگیری کند، از هر بلاک چندین کپی مختلف به نام رپلیکا می‌سازد و ذخیره ‌میکند تا در صورتی که یکی از نود‌ها و یا خود بلاک‌ در دسترس نبود یا از بین رفت، بتواند همچنان داده‌های ذخیره شده را به درستی بازیابی کند.\n",
    "</div>\n",
    "    "
   ]
  },
  {
   "cell_type": "markdown",
   "id": "5a04cebe",
   "metadata": {},
   "source": [
    "<div align=\"right\" dir=\"auto\">\n",
    "ب) داده‌ها در HDFS به صورت توزیع شده در چندین بلاک مختلف ذخیره می‌شوند. اگر تعداد بلاک‌ها زیاد باشد، در مرحله بازیابی داده احتمال اینکه بلاک‌ها کنار یکدیگر قرار نگیرند را افزایش می‌دهد و این باعث می‌شود هزینه شبکه برای دسترسی به همه آنها پرداخت کنیم. به طور خلاصه سربار بیشتری خواهد داشت.\n",
    "</div>"
   ]
  },
  {
   "cell_type": "markdown",
   "id": "2a19faa2",
   "metadata": {},
   "source": [
    "<div align=\"right\" dir=\"auto\">\n",
    "   \n",
    "\n",
    "    ۲- در  این قسمت شما باید ابتدا دیتاست داده شده را از حالت فشرده در بیاورید و سپس فایل‌های درون آن را در کلاستر هدوپ در مسیر /homework3/dataset/ بارگزاری کنید \n",
    "    نکته: در این بخش دستورات زده شده خود را برای کار با hdfs  در ترمینال را در سلول زیر وارد نمایید\n",
    "    برای دسترسی به کامند 'hdfs dfs'  میتوانید وارد یکی از کانتینر‌های هدوپ شوید و دستور را اجرا کنید همچنین همه کانتینر‌ها دارای shared_dir\n",
    "    در روت خود هستند و این دایرکتوری در تمام کانتینر‌ها به اشتراک گذاشته شده است\n",
    "    برای چک کردن فایل‌ها در hdfs به \n",
    "    \n",
    "[HDFS webUI](http://localhost:9870/explorer.html#/)\n",
    "    \n",
    "    مراجعه کنید\n",
    " </div>"
   ]
  },
  {
   "cell_type": "markdown",
   "id": "950daafe",
   "metadata": {},
   "source": [
    "`hdfs dfs -mkdir /hw3`\n",
    "\n",
    "`hdfs dfs -put War.json Weapon.json`"
   ]
  },
  {
   "cell_type": "markdown",
   "id": "9ecd3303",
   "metadata": {},
   "source": [
    "<div align=\"right\" dir=\"auto\">\n",
    "    \n",
    "   #  بخش دوم:  اسپارک \n",
    "\n",
    "    ۱- به سوالات زیر پاسخ دهید\n",
    "    - مزیت اسپارک نسبت به مدل قدیمی map/reduce چیست؟\n",
    "    -  تفاوت action و transform در اسپارک چیست؟\n",
    "    \n",
    "</div>\n",
    "  \n",
    "    "
   ]
  },
  {
   "cell_type": "markdown",
   "id": "08e61267",
   "metadata": {},
   "source": [
    "<div align=\"right\" dir=\"auto\">\n",
    "الف) در اسپارک داده‌ها مستقیما در مموری ذخیره می‌شود و پردازش‌های متوالی را میتواند روی RDD انجام دهد و این باعث افزایش سرعت پردازش داده خواهد شد. اما در مدل‌های قدیمی‌تر نتایج بر روی دیسک ذخیره می‌شد.\n",
    "</div>\n",
    "  \n",
    "    "
   ]
  },
  {
   "cell_type": "markdown",
   "id": "15dc831a",
   "metadata": {},
   "source": [
    "<div align=\"right\" dir=\"auto\">\n",
    "ب) در transformation یک RDD به عنوان ورودی گرفته می‌شود و خروجی نهایی یک RDD دیگر است. در حالی که Action ورودی مشابه transformation دارد اما خروجی یک عدد خواهد بود.\n",
    "</div>\n",
    "  \n",
    "    "
   ]
  },
  {
   "cell_type": "markdown",
   "id": "3850583a",
   "metadata": {},
   "source": [
    "<div align=\"right\" dir=\"auto\">\n",
    "    \n",
    "\n",
    "    ۲- کد‌های خواسته شده در قسمت‌های پایینی را تکمیل کنید\n",
    "    (قسمت های ToDo )\n",
    "</div>\n",
    "  \n",
    "    "
   ]
  },
  {
   "cell_type": "markdown",
   "id": "e0cc77fd",
   "metadata": {},
   "source": [
    "\n",
    "<div align=\"right\" dir=\"auto\">\n",
    "   \n",
    "##  اتصال به کلاستر اسپارک و هدوپ \n",
    "\n",
    "    در این قسمت از تمرین باید به عنوان درایور یک سسشن  به کلاستر اسپارک بسازیم.\n",
    " </div>\n",
    "  \n",
    "    "
   ]
  },
  {
   "cell_type": "code",
   "execution_count": 1,
   "id": "9eb2cd1d",
   "metadata": {},
   "outputs": [],
   "source": [
    "import pyspark\n",
    "from pyspark import SparkContext \n",
    "from pyspark.sql import SparkSession,Row\n",
    "from pyspark.sql.functions import *\n",
    "import math\n",
    "import pandas , numpy\n",
    "import matplotlib\n",
    "import pprint\n",
    "import os\n",
    "import tempfile\n",
    "from math import log\n",
    "import matplotlib.pyplot as plt\n",
    "from pyspark.sql.types import IntegerType"
   ]
  },
  {
   "cell_type": "code",
   "execution_count": 2,
   "id": "2446b570",
   "metadata": {},
   "outputs": [
    {
     "name": "stderr",
     "output_type": "stream",
     "text": [
      "Warning: Ignoring non-Spark config property: fs.defaultFS\n",
      "23/01/27 10:24:40 WARN NativeCodeLoader: Unable to load native-hadoop library for your platform... using builtin-java classes where applicable\n",
      "Using Spark's default log4j profile: org/apache/spark/log4j-defaults.properties\n",
      "Setting default log level to \"WARN\".\n",
      "To adjust logging level use sc.setLogLevel(newLevel). For SparkR, use setLogLevel(newLevel).\n"
     ]
    },
    {
     "data": {
      "text/html": [
       "\n",
       "            <div>\n",
       "                <p><b>SparkSession - in-memory</b></p>\n",
       "                \n",
       "        <div>\n",
       "            <p><b>SparkContext</b></p>\n",
       "\n",
       "            <p><a href=\"http://10.20.30.100:4040\">Spark UI</a></p>\n",
       "\n",
       "            <dl>\n",
       "              <dt>Version</dt>\n",
       "                <dd><code>v3.0.0</code></dd>\n",
       "              <dt>Master</dt>\n",
       "                <dd><code>spark://spark-master:7077</code></dd>\n",
       "              <dt>AppName</dt>\n",
       "                <dd><code>homework3</code></dd>\n",
       "            </dl>\n",
       "        </div>\n",
       "        \n",
       "            </div>\n",
       "        "
      ],
      "text/plain": [
       "<pyspark.sql.session.SparkSession at 0x7fd0965a0970>"
      ]
     },
     "execution_count": 2,
     "metadata": {},
     "output_type": "execute_result"
    }
   ],
   "source": [
    "spark = SparkSession.builder.appName(\"homework3\").master(\"spark://spark-master:7077\").config(\"fs.defaultFS\",\"hdfs://namenode:9000/\").getOrCreate()\n",
    "spark"
   ]
  },
  {
   "cell_type": "markdown",
   "id": "674ee4fa",
   "metadata": {},
   "source": [
    "\n",
    "<div align=\"right\" dir=\"auto\">\n",
    "   \n",
    "#  خواندن داده \n",
    "\n",
    "    :در اسپارک ما ساختارهای مختلفی برای کار با داده و پخش شدن آن‌ها در شبکه داریم که به ۳ دسته تقسیم بندی میشوند \n",
    "+ RDD\n",
    "+ Dataset\n",
    "+ DataFrame\n",
    "    \n",
    "    \n",
    "     برای مطالعه بیشتر به لینک زیر مراجعه کنید:\n",
    "[rdd-vs-dataframe-vs-dataset](https://phoenixnap.com/kb/rdd-vs-dataframe-vs-dataset)\n",
    "\n",
    "    ما در درس با ساختار RDD آشنا شدیم حال در این تمرین میخواهیم با ساختار Dataframe آشنا شویم و به کمک آن دیتا را از روی HDFS بخوانیم و روی آن فایل‌ها پردازش انجام دهیم\n",
    " \n",
    " </div>\n",
    "  \n",
    "    "
   ]
  },
  {
   "cell_type": "markdown",
   "id": "fada3241",
   "metadata": {},
   "source": [
    "- [Spark Cluster Master UI](http://localhost:8080/)\n",
    "- [Application master UI (driver UI)](http://localhost:4040)\n",
    "- [Web Hdfs](http://localhost:9870/explorer.html#/)\n"
   ]
  },
  {
   "cell_type": "markdown",
   "id": "00572c50",
   "metadata": {},
   "source": [
    "<div align=\"right\" dir=\"auto\">\n",
    " .در این قسمت دیتاست را لود می‌کنیم \n",
    "</div>"
   ]
  },
  {
   "cell_type": "code",
   "execution_count": 3,
   "id": "af4d01e5",
   "metadata": {
    "collapsed": false,
    "jupyter": {
     "outputs_hidden": false
    }
   },
   "outputs": [
    {
     "name": "stderr",
     "output_type": "stream",
     "text": [
      "                                                                                \r"
     ]
    }
   ],
   "source": [
    "War = spark.read.json(\"/hw3/War.json\")\n",
    "Weapon = spark.read.json(\"/hw3/Weapon.json\")"
   ]
  },
  {
   "cell_type": "markdown",
   "id": "3cc7aaa4",
   "metadata": {},
   "source": [
    "<div align=\"right\" dir=\"auto\">\n",
    "برای اینکه بتوانیم روی دیتای لود شده به وسیله تابع  spark.sql\n",
    "    کوئری‌های SQL بزنیم\n",
    "    باید دو دیتاست لود شده را به عنوان table\n",
    "    به spark \n",
    "    معرفی کنیم\n",
    "</div>"
   ]
  },
  {
   "cell_type": "code",
   "execution_count": 4,
   "id": "bc0faf38",
   "metadata": {},
   "outputs": [],
   "source": [
    "War.registerTempTable(\"War\")\n",
    "Weapon.registerTempTable(\"Weapon\")"
   ]
  },
  {
   "cell_type": "markdown",
   "id": "5fc09e5b",
   "metadata": {},
   "source": [
    "<div align=\"right\" dir=\"auto\">\n",
    "یک مثال ...\n",
    "</div>"
   ]
  },
  {
   "cell_type": "code",
   "execution_count": 5,
   "id": "b1306909",
   "metadata": {},
   "outputs": [
    {
     "name": "stderr",
     "output_type": "stream",
     "text": [
      "[Stage 2:>                                                          (0 + 7) / 7]\r"
     ]
    },
    {
     "name": "stdout",
     "output_type": "stream",
     "text": [
      "+-----------+-------------+--------+-------------+--------------+------------+\n",
      "|  DateOfWar|DurationOfWar|Location|MinorityStart|TargetMinority|      Weapon|\n",
      "+-----------+-------------+--------+-------------+--------------+------------+\n",
      "|73298-04-22|       1005.0|BIEN HOA|          Elf|           Orc|Mirkwood Bow|\n",
      "+-----------+-------------+--------+-------------+--------------+------------+\n",
      "\n"
     ]
    },
    {
     "name": "stderr",
     "output_type": "stream",
     "text": [
      "                                                                                \r"
     ]
    }
   ],
   "source": [
    "spark.sql(\"SELECT * FROM War where DurationOfWar=1005.0 limit 1;\").show()"
   ]
  },
  {
   "cell_type": "code",
   "execution_count": 6,
   "id": "d2b18709",
   "metadata": {},
   "outputs": [
    {
     "name": "stderr",
     "output_type": "stream",
     "text": [
      "[Stage 4:================>                                          (2 + 5) / 7]\r"
     ]
    },
    {
     "name": "stdout",
     "output_type": "stream",
     "text": [
      "+-----------+-------------+--------+-------------+--------------+------------+\n",
      "|  DateOfWar|DurationOfWar|Location|MinorityStart|TargetMinority|      Weapon|\n",
      "+-----------+-------------+--------+-------------+--------------+------------+\n",
      "|73298-04-22|       1005.0|BIEN HOA|          Elf|           Orc|Mirkwood Bow|\n",
      "+-----------+-------------+--------+-------------+--------------+------------+\n",
      "\n"
     ]
    },
    {
     "name": "stderr",
     "output_type": "stream",
     "text": [
      "                                                                                \r"
     ]
    }
   ],
   "source": [
    "War.select(\"*\").filter(col(\"DurationOfWar\")==1005.0).limit(1).show()"
   ]
  },
  {
   "cell_type": "markdown",
   "id": "ffb74ac2",
   "metadata": {},
   "source": [
    "<div align=\"right\" dir=\"auto\">\n",
    " ده رکورد آخر را نمایش دهید\n",
    "</div>"
   ]
  },
  {
   "cell_type": "code",
   "execution_count": 7,
   "id": "f9dc1b90",
   "metadata": {},
   "outputs": [
    {
     "name": "stderr",
     "output_type": "stream",
     "text": [
      "                                                                                \r"
     ]
    },
    {
     "data": {
      "text/html": [
       "<div>\n",
       "<style scoped>\n",
       "    .dataframe tbody tr th:only-of-type {\n",
       "        vertical-align: middle;\n",
       "    }\n",
       "\n",
       "    .dataframe tbody tr th {\n",
       "        vertical-align: top;\n",
       "    }\n",
       "\n",
       "    .dataframe thead th {\n",
       "        text-align: right;\n",
       "    }\n",
       "</style>\n",
       "<table border=\"1\" class=\"dataframe\">\n",
       "  <thead>\n",
       "    <tr style=\"text-align: right;\">\n",
       "      <th></th>\n",
       "      <th>DateOfWar</th>\n",
       "      <th>DurationOfWar</th>\n",
       "      <th>Location</th>\n",
       "      <th>MinorityStart</th>\n",
       "      <th>TargetMinority</th>\n",
       "      <th>Weapon</th>\n",
       "    </tr>\n",
       "  </thead>\n",
       "  <tbody>\n",
       "    <tr>\n",
       "      <th>0</th>\n",
       "      <td>73365-06-30</td>\n",
       "      <td>800.0</td>\n",
       "      <td>NAKHON PHANOM</td>\n",
       "      <td>Elf</td>\n",
       "      <td>Nazgul</td>\n",
       "      <td>None</td>\n",
       "    </tr>\n",
       "    <tr>\n",
       "      <th>1</th>\n",
       "      <td>73365-06-30</td>\n",
       "      <td>800.0</td>\n",
       "      <td>UDORN AB</td>\n",
       "      <td>Elf</td>\n",
       "      <td>Nazgul</td>\n",
       "      <td>Andúril</td>\n",
       "    </tr>\n",
       "    <tr>\n",
       "      <th>2</th>\n",
       "      <td>73365-06-30</td>\n",
       "      <td>800.0</td>\n",
       "      <td>KORAT</td>\n",
       "      <td>Elf</td>\n",
       "      <td>Nazgul</td>\n",
       "      <td>Glamdring</td>\n",
       "    </tr>\n",
       "    <tr>\n",
       "      <th>3</th>\n",
       "      <td>73365-06-30</td>\n",
       "      <td>800.0</td>\n",
       "      <td>UDORN AB</td>\n",
       "      <td>Elf</td>\n",
       "      <td>Nazgul</td>\n",
       "      <td>None</td>\n",
       "    </tr>\n",
       "    <tr>\n",
       "      <th>4</th>\n",
       "      <td>73365-06-30</td>\n",
       "      <td>800.0</td>\n",
       "      <td>NAKHON PHANOM</td>\n",
       "      <td>Elf</td>\n",
       "      <td>Nazgul</td>\n",
       "      <td>None</td>\n",
       "    </tr>\n",
       "    <tr>\n",
       "      <th>5</th>\n",
       "      <td>73365-06-30</td>\n",
       "      <td>800.0</td>\n",
       "      <td>NAKHON PHANOM</td>\n",
       "      <td>Elf</td>\n",
       "      <td>Nazgul</td>\n",
       "      <td>None</td>\n",
       "    </tr>\n",
       "    <tr>\n",
       "      <th>6</th>\n",
       "      <td>73365-06-30</td>\n",
       "      <td>1.0</td>\n",
       "      <td>UDORN AB</td>\n",
       "      <td>Elf</td>\n",
       "      <td>Goblin</td>\n",
       "      <td>Andúril</td>\n",
       "    </tr>\n",
       "    <tr>\n",
       "      <th>7</th>\n",
       "      <td>73365-06-30</td>\n",
       "      <td>1800.0</td>\n",
       "      <td>NAKHON PHANOM</td>\n",
       "      <td>Elf</td>\n",
       "      <td>Nazgul</td>\n",
       "      <td>None</td>\n",
       "    </tr>\n",
       "    <tr>\n",
       "      <th>8</th>\n",
       "      <td>73365-06-30</td>\n",
       "      <td>800.0</td>\n",
       "      <td>NAKHON PHANOM</td>\n",
       "      <td>Elf</td>\n",
       "      <td>Nazgul</td>\n",
       "      <td>None</td>\n",
       "    </tr>\n",
       "    <tr>\n",
       "      <th>9</th>\n",
       "      <td>73365-06-30</td>\n",
       "      <td>800.0</td>\n",
       "      <td>U TAPAO</td>\n",
       "      <td>Elf</td>\n",
       "      <td>Nazgul</td>\n",
       "      <td>None</td>\n",
       "    </tr>\n",
       "  </tbody>\n",
       "</table>\n",
       "</div>"
      ],
      "text/plain": [
       "     DateOfWar  DurationOfWar       Location MinorityStart TargetMinority  \\\n",
       "0  73365-06-30          800.0  NAKHON PHANOM           Elf         Nazgul   \n",
       "1  73365-06-30          800.0       UDORN AB           Elf         Nazgul   \n",
       "2  73365-06-30          800.0          KORAT           Elf         Nazgul   \n",
       "3  73365-06-30          800.0       UDORN AB           Elf         Nazgul   \n",
       "4  73365-06-30          800.0  NAKHON PHANOM           Elf         Nazgul   \n",
       "5  73365-06-30          800.0  NAKHON PHANOM           Elf         Nazgul   \n",
       "6  73365-06-30            1.0       UDORN AB           Elf         Goblin   \n",
       "7  73365-06-30         1800.0  NAKHON PHANOM           Elf         Nazgul   \n",
       "8  73365-06-30          800.0  NAKHON PHANOM           Elf         Nazgul   \n",
       "9  73365-06-30          800.0        U TAPAO           Elf         Nazgul   \n",
       "\n",
       "      Weapon  \n",
       "0       None  \n",
       "1    Andúril  \n",
       "2  Glamdring  \n",
       "3       None  \n",
       "4       None  \n",
       "5       None  \n",
       "6    Andúril  \n",
       "7       None  \n",
       "8       None  \n",
       "9       None  "
      ]
     },
     "execution_count": 7,
     "metadata": {},
     "output_type": "execute_result"
    }
   ],
   "source": [
    "spark.sql(\"select * from War order by DateOfWar desc limit 10;\").toPandas()"
   ]
  },
  {
   "cell_type": "markdown",
   "id": "9670f12e",
   "metadata": {},
   "source": [
    "<div align=\"right\" dir=\"auto\">\n",
    "اسکیما یا ساختار دیتاست ها را نمایش دهید\n",
    "\n",
    "</div>"
   ]
  },
  {
   "cell_type": "code",
   "execution_count": 8,
   "id": "328e53a1",
   "metadata": {},
   "outputs": [
    {
     "name": "stdout",
     "output_type": "stream",
     "text": [
      "root\n",
      " |-- DateOfWar: string (nullable = true)\n",
      " |-- DurationOfWar: double (nullable = true)\n",
      " |-- Location: string (nullable = true)\n",
      " |-- MinorityStart: string (nullable = true)\n",
      " |-- TargetMinority: string (nullable = true)\n",
      " |-- Weapon: string (nullable = true)\n",
      "\n",
      "root\n",
      " |-- Description: string (nullable = true)\n",
      " |-- Weapon: string (nullable = true)\n",
      "\n"
     ]
    }
   ],
   "source": [
    "War.printSchema()\n",
    "Weapon.printSchema()"
   ]
  },
  {
   "cell_type": "markdown",
   "id": "ae9aecb2",
   "metadata": {},
   "source": [
    "### Expected\n",
    "![image](expected_answers/1.png)"
   ]
  },
  {
   "cell_type": "markdown",
   "id": "fc8b9d9a",
   "metadata": {},
   "source": [
    "\n",
    "<div align=\"right\" dir=\"auto\">\n",
    "   \n",
    "#  اسپارک SQL \n",
    "\n",
    "    مهمترین قابلیت اسپارک این است که می‌تواند با خواندن فایل‌ها به صورت توزیع شده روی آن‌ها پردازش انجام دهد و این پردازش را برنامه ‌نویس میتواند با استفاده از دستورات SQL اعمال کند\n",
    "    در این بخش از شما انتظار می‌رود که به وسیله spark SQL  به اسپارک کوئری  بزنید . \n",
    "    \n",
    "    \n",
    " </div>\n",
    "\n",
    "[pyspark.sql.functions.col](https://spark.apache.org/docs/latest/api/python/reference/pyspark.sql/api/pyspark.sql.functions.col.html)\n",
    "\n",
    "[pyspark.sql.DataFrame.count](https://spark.apache.org/docs/latest/api/python/reference/pyspark.sql/api/pyspark.sql.DataFrame.count.html)\n",
    "\n",
    "[pyspark.sql.DataFrame.filter](https://spark.apache.org/docs/latest/api/python/reference/pyspark.sql/api/pyspark.sql.DataFrame.filter.html)\n",
    "\n",
    "[pyspark.sql.DataFrame.groupBy](https://spark.apache.org/docs/3.1.1/api/python/reference/api/pyspark.sql.DataFrame.groupBy.html)"
   ]
  },
  {
   "cell_type": "markdown",
   "id": "1dec2fd8",
   "metadata": {},
   "source": [
    "<div align=\"right\" dir=\"auto\">\n",
    " چه تعداد نبرد در کل این دوران‌ها انجام شده است؟\n",
    "</div>"
   ]
  },
  {
   "cell_type": "code",
   "execution_count": 11,
   "id": "b1804cc8",
   "metadata": {
    "collapsed": false,
    "jupyter": {
     "outputs_hidden": false
    }
   },
   "outputs": [
    {
     "name": "stderr",
     "output_type": "stream",
     "text": [
      "                                                                                \r"
     ]
    },
    {
     "data": {
      "text/html": [
       "<div>\n",
       "<style scoped>\n",
       "    .dataframe tbody tr th:only-of-type {\n",
       "        vertical-align: middle;\n",
       "    }\n",
       "\n",
       "    .dataframe tbody tr th {\n",
       "        vertical-align: top;\n",
       "    }\n",
       "\n",
       "    .dataframe thead th {\n",
       "        text-align: right;\n",
       "    }\n",
       "</style>\n",
       "<table border=\"1\" class=\"dataframe\">\n",
       "  <thead>\n",
       "    <tr style=\"text-align: right;\">\n",
       "      <th></th>\n",
       "      <th>count(1)</th>\n",
       "    </tr>\n",
       "  </thead>\n",
       "  <tbody>\n",
       "    <tr>\n",
       "      <th>0</th>\n",
       "      <td>4400775</td>\n",
       "    </tr>\n",
       "  </tbody>\n",
       "</table>\n",
       "</div>"
      ],
      "text/plain": [
       "   count(1)\n",
       "0   4400775"
      ]
     },
     "execution_count": 11,
     "metadata": {},
     "output_type": "execute_result"
    }
   ],
   "source": [
    "spark.sql('select count(*) from war').toPandas()"
   ]
  },
  {
   "cell_type": "markdown",
   "id": "b1c6931d",
   "metadata": {},
   "source": [
    "### Expected\n",
    "![image](expected_answers/2.png)"
   ]
  },
  {
   "cell_type": "markdown",
   "id": "7b47f467",
   "metadata": {},
   "source": [
    "<div align=\"right\" dir=\"auto\">\n",
    "هر نژاد در چه تعدادی نبرد مشارکت داشته اند  به صورت مرتب شده نمایش دهبد؟\n",
    "</div>"
   ]
  },
  {
   "cell_type": "code",
   "execution_count": 12,
   "id": "0ed904dc",
   "metadata": {},
   "outputs": [
    {
     "name": "stderr",
     "output_type": "stream",
     "text": [
      "                                                                                \r"
     ]
    },
    {
     "data": {
      "text/html": [
       "<div>\n",
       "<style scoped>\n",
       "    .dataframe tbody tr th:only-of-type {\n",
       "        vertical-align: middle;\n",
       "    }\n",
       "\n",
       "    .dataframe tbody tr th {\n",
       "        vertical-align: top;\n",
       "    }\n",
       "\n",
       "    .dataframe thead th {\n",
       "        text-align: right;\n",
       "    }\n",
       "</style>\n",
       "<table border=\"1\" class=\"dataframe\">\n",
       "  <thead>\n",
       "    <tr style=\"text-align: right;\">\n",
       "      <th></th>\n",
       "      <th>MinorityStart</th>\n",
       "      <th>war_count</th>\n",
       "    </tr>\n",
       "  </thead>\n",
       "  <tbody>\n",
       "    <tr>\n",
       "      <th>0</th>\n",
       "      <td>Elf</td>\n",
       "      <td>3708997</td>\n",
       "    </tr>\n",
       "    <tr>\n",
       "      <th>1</th>\n",
       "      <td>Orc</td>\n",
       "      <td>622013</td>\n",
       "    </tr>\n",
       "    <tr>\n",
       "      <th>2</th>\n",
       "      <td>Goblin</td>\n",
       "      <td>32777</td>\n",
       "    </tr>\n",
       "    <tr>\n",
       "      <th>3</th>\n",
       "      <td>Dwarf</td>\n",
       "      <td>24469</td>\n",
       "    </tr>\n",
       "    <tr>\n",
       "      <th>4</th>\n",
       "      <td>Hobbit</td>\n",
       "      <td>12519</td>\n",
       "    </tr>\n",
       "  </tbody>\n",
       "</table>\n",
       "</div>"
      ],
      "text/plain": [
       "  MinorityStart  war_count\n",
       "0           Elf    3708997\n",
       "1           Orc     622013\n",
       "2        Goblin      32777\n",
       "3         Dwarf      24469\n",
       "4        Hobbit      12519"
      ]
     },
     "execution_count": 12,
     "metadata": {},
     "output_type": "execute_result"
    }
   ],
   "source": [
    "wars_df = spark.sql(\"select MinorityStart, count(*) as war_count from War group by MinorityStart order by war_count DESC;\").toPandas()\n",
    "wars_df"
   ]
  },
  {
   "cell_type": "markdown",
   "id": "c8e2351f",
   "metadata": {},
   "source": [
    "### Expected\n",
    "![image](expected_answers/3.png)"
   ]
  },
  {
   "cell_type": "markdown",
   "id": "48782432",
   "metadata": {},
   "source": [
    "\n",
    "<div align=\"right\" dir=\"auto\">\n",
    "   \n",
    "#  اسپارک toPandas \n",
    "\n",
    "    یکی ار قابلیت‌های اسپارک این است که می‌توان dataframe های آن را به \n",
    "    dataframe های pandas تبدیل کند و از توابع آن از جمله\n",
    "    توابع plot  آن برای رسم نمودار استفاده کرد.\n",
    "    در این قسمت از شما انتظار می‌رود نمودار تعداد جنگ‌ها بر اساس هر گونه را رسم کنید.\n",
    "    \n",
    " </div>\n",
    "  \n",
    "    \n",
    "\n",
    "  \n",
    "[pyspark.sql.DataFrame.toPandas](https://spark.apache.org/docs/latest/api/python/reference/pyspark.sql/api/pyspark.sql.DataFrame.toPandas.html)\n",
    "\n",
    "[pyspark.pandas.DataFrame.plot](https://spark.apache.org/docs/3.2.1/api/python/reference/pyspark.pandas/api/pyspark.pandas.DataFrame.plot.html)\n"
   ]
  },
  {
   "cell_type": "code",
   "execution_count": 18,
   "id": "947d7ce0",
   "metadata": {},
   "outputs": [
    {
     "data": {
      "text/plain": [
       "<AxesSubplot: xlabel='MinorityStart'>"
      ]
     },
     "execution_count": 18,
     "metadata": {},
     "output_type": "execute_result"
    },
    {
     "data": {
      "image/png": "[encoded data removed]",
      "text/plain": [
       "<Figure size 640x480 with 1 Axes>"
      ]
     },
     "metadata": {},
     "output_type": "display_data"
    }
   ],
   "source": [
    "df = wars_df\n",
    "df.plot(x=\"MinorityStart\", y=\"war_count\", kind=\"bar\", logy=True, color='purple')"
   ]
  },
  {
   "cell_type": "markdown",
   "id": "2071aca7",
   "metadata": {},
   "source": [
    "### Expected\n",
    "![image](expected_answers/plotlib.png)"
   ]
  },
  {
   "cell_type": "markdown",
   "id": "8340ad37",
   "metadata": {},
   "source": [
    "<div align=\"right\" dir=\"auto\">\n",
    "چه تعداد نبردهایی بر اساس زمان انجام شده بر اساس زمان مرتب کنید\n",
    "</div>"
   ]
  },
  {
   "cell_type": "code",
   "execution_count": 19,
   "id": "dbb08918",
   "metadata": {},
   "outputs": [
    {
     "name": "stderr",
     "output_type": "stream",
     "text": [
      "[Stage 15:==================================================>   (187 + 7) / 200]\r"
     ]
    },
    {
     "name": "stdout",
     "output_type": "stream",
     "text": [
      "+-----------+---------+\n",
      "|  DateOfWar|war_count|\n",
      "+-----------+---------+\n",
      "|73295-10-01|      447|\n",
      "|73295-10-02|      652|\n",
      "|73295-10-03|      608|\n",
      "|73295-10-04|      532|\n",
      "|73295-10-05|      769|\n",
      "|73295-10-06|      738|\n",
      "|73295-10-07|      655|\n",
      "|73295-10-08|      764|\n",
      "|73295-10-09|      746|\n",
      "|73295-10-10|      848|\n",
      "|73295-10-11|      503|\n",
      "|73295-10-12|      511|\n",
      "|73295-10-13|      395|\n",
      "|73295-10-14|      469|\n",
      "|73295-10-15|      492|\n",
      "|73295-10-16|      533|\n",
      "|73295-10-17|      381|\n",
      "|73295-10-18|      529|\n",
      "|73295-10-19|      649|\n",
      "|73295-10-20|      624|\n",
      "+-----------+---------+\n",
      "only showing top 20 rows\n",
      "\n"
     ]
    },
    {
     "name": "stderr",
     "output_type": "stream",
     "text": [
      "                                                                                \r"
     ]
    }
   ],
   "source": [
    "spark.sql(\"select DateOfWar, count(*) as war_count from War group by DateOfWar order by DateOfWar;\").show()"
   ]
  },
  {
   "cell_type": "markdown",
   "id": "92c2af9a",
   "metadata": {},
   "source": [
    "### Expected\n",
    "![image](expected_answers/date_groupBy.png)"
   ]
  },
  {
   "cell_type": "markdown",
   "id": "52baf54d",
   "metadata": {},
   "source": [
    "<div align=\"right\" dir=\"auto\">\n",
    "نژاد \"اورک\" توسط چه نژادی مورد حمله قرار گرفته است ؟\n",
    "</div>"
   ]
  },
  {
   "cell_type": "code",
   "execution_count": 20,
   "id": "b7bbaa0e",
   "metadata": {},
   "outputs": [
    {
     "name": "stderr",
     "output_type": "stream",
     "text": [
      "                                                                                \r"
     ]
    },
    {
     "name": "stdout",
     "output_type": "stream",
     "text": [
      "+-------------+\n",
      "|MinorityStart|\n",
      "+-------------+\n",
      "|          Elf|\n",
      "|          Orc|\n",
      "|       Hobbit|\n",
      "|        Dwarf|\n",
      "+-------------+\n",
      "\n"
     ]
    }
   ],
   "source": [
    "spark.sql(\"select MinorityStart from War where TargetMinority='Orc' group by MinorityStart;\").show()"
   ]
  },
  {
   "cell_type": "markdown",
   "id": "7528fdb3",
   "metadata": {},
   "source": [
    "### Expected\n",
    "![image](expected_answers/orc_target.png)"
   ]
  },
  {
   "cell_type": "markdown",
   "id": "8f1a5996",
   "metadata": {},
   "source": [
    "\n",
    "<div align=\"right\" dir=\"auto\">\n",
    "   \n",
    "#  اسپارک Shuffle \n",
    "\n",
    "    Spark SQL shuffle مکانیزمی است برای توزیع مجدد یا پارتیشن بندی مجدد داده ها به طوری که داده ها به طور متفاوت در پارتیشن ها گروه بندی می شوند، بر اساس اندازه داده شما ممکن است نیاز باشد تعداد پارتیشن های RDD/DataFrame را با استفاده از اسپارک کاهش یا افزایش دهید.\n",
    "    برای مثال وقتی روی دو dataframe مختلف که روی شبکه توزیع شده اند\n",
    "    دستور join را میزنیم یک عملیات \n",
    "    shuffling انجام میشود\n",
    "    در این قسمت از شما انتظار می‌رود کوئری جوین زیر را نوشته و اجرا کنید همچنین به  صفحه \n",
    "    application master ui\n",
    "    مراجعه کنید و نحوه shuffleing را گزارش کنید . \n",
    "     و همچنین توضیح دهید DAG scheduler  در اسپارک چیست ؟\n",
    " </div>\n",
    "  \n",
    "    \n",
    "\n",
    "  \n",
    "[shuffling in standalone cluster](https://medium.com/@rachit1arora/apache-spark-shuffle-service-there-are-more-than-one-options-c1a8e098230e)\n",
    "\n"
   ]
  },
  {
   "cell_type": "markdown",
   "id": "bcf842da",
   "metadata": {},
   "source": [
    "<div align=\"right\" dir=\"auto\">\n",
    "   یک لایه زمانبند در اسپارک است که برنامه‌ریزی انجام یک جاب را به صورت گام‌های متوالی(stage-oriented) انجام میدهد.\n",
    "    در این زمان‌بند برای اجرای جاب‌ها یک گراف جهتدار بدون دور ساخته می‌شود که در آن گام‌های مختلف انجام تسک با توجه به نیازمندی‌های مختلف در سطح RDD و عملیات‌های مورد نظر کاربر،قرار داده می‌شود.\n",
    " </div>"
   ]
  },
  {
   "cell_type": "markdown",
   "id": "739b0d8b",
   "metadata": {},
   "source": [
    "<div align=\"right\" dir=\"auto\">\n",
    "    \n",
    "    بیشترین سلاحی که در این جنگ ها استفاده شده کدام سلاح  بوده است؟.\n",
    "    جزییات این سلاح را از فایل مشخصات سلاح (Weapon) می‌توانید بدست آورید.\n",
    "    فایل مربوط به سلاح ها را بازخوانی کرده و برای نمایش بین دو فایل از join استفاده شود.\n",
    "\n",
    "</div>"
   ]
  },
  {
   "cell_type": "code",
   "execution_count": 6,
   "id": "31220c56",
   "metadata": {},
   "outputs": [
    {
     "name": "stderr",
     "output_type": "stream",
     "text": [
      "[Stage 7:===============================================>       (174 + 8) / 200]\r"
     ]
    },
    {
     "name": "stdout",
     "output_type": "stream",
     "text": [
      "+------------+------------+--------------------+\n",
      "|      Weapon|weapon_count|         Description|\n",
      "+------------+------------+--------------------+\n",
      "|     Andúril|      909362|\"Reforged from th...|\n",
      "|       Narya|      451385|Narya has the pow...|\n",
      "|       Vilya|      372975| Vilya was the st...|\n",
      "|     Orcrist|      358498|\"A sword in The H...|\n",
      "|Mirkwood Bow|      267457| Legolas wielded ...|\n",
      "|       Nenya|      242231|Galadriel’s ring ...|\n",
      "|   Glamdring|      165773|\"A sword in The H...|\n",
      "|    Aranrúth|      146543|A sword wielded b...|\n",
      "| Master Ring|      144601|The Ring was a si...|\n",
      "|       Sting|      140410|A knife in The Ho...|\n",
      "|       Grond|       99100|\"The name of the ...|\n",
      "|Dragon-helm |       82219|A helmet owned an...|\n",
      "|      Aeglos|       76525|A spear wielded b...|\n",
      "|    Herugrim|       75058|A sword that belo...|\n",
      "|   Red Arrow|       73843|\"A black-feathere...|\n",
      "|   Anglachel|       71716|A sword forged by...|\n",
      "|    Gúthwinë|       58691|A sword wielded b...|\n",
      "|Belthronding|       52865|A bow wielded by ...|\n",
      "|      Ringil|       50843|A sword wielded b...|\n",
      "|  Dramborleg|       41655|An axe belonging ...|\n",
      "+------------+------------+--------------------+\n",
      "\n"
     ]
    },
    {
     "name": "stderr",
     "output_type": "stream",
     "text": [
      "                                                                                \r"
     ]
    }
   ],
   "source": [
    "spark.sql(\"select war.Weapon, count(war.Weapon) as weapon_count, weapon.Description from War join Weapon on war.Weapon = weapon.Weapon group by war.Weapon, weapon.Description order by weapon_count DESC;\").show()"
   ]
  },
  {
   "cell_type": "markdown",
   "id": "9e7e3d63",
   "metadata": {},
   "source": [
    "### Expected\n",
    "![image](expected_answers/most_used_weapons.png)"
   ]
  },
  {
   "cell_type": "markdown",
   "id": "a3c7509e",
   "metadata": {},
   "source": [
    "     # ToDo\n",
    "     # Refere to Application master UI"
   ]
  },
  {
   "cell_type": "markdown",
   "id": "6324f61e",
   "metadata": {},
   "source": [
    "\n",
    "<div align=\"right\" dir=\"auto\">\n",
    "   \n",
    "# تابع تعریف شده توسط کاربر(UDF)\n",
    "\n",
    "    یکی از مزایای اسپارک این است که نه تنها برای ما یک زبان SQL فراهم کرده که روی چندین سرور به صورت همزمان پردازش را انجام دهد بلکه \n",
    "    میتوان به زبان‌های مختلف توابعی تعریف کرد که روی  همه executor ها اجرا شود\n",
    "    در این بخش از شما انتظار می‌رود که با نوشتن یک UDF به زبان پایتونی \n",
    "    توضیحات هر اسلحه را به 3 کلمه اول آن کوتاه کنید و بقیه کلمات را حذف کنید و سوتونی به نام short_description را به داده های \n",
    "    Weapon اضافه کنید\n",
    "    \n",
    "    \n",
    " </div>\n",
    " \n",
    "[pyspark.sql.functions.udf](https://spark.apache.org/docs/3.1.3/api/python/reference/api/pyspark.sql.functions.udf.html)\n",
    "\n",
    "[pyspark.sql.DataFrame.withColumn](https://spark.apache.org/docs/3.1.3/api/python/reference/api/pyspark.sql.DataFrame.withColumn.html)\n",
    "\n",
    "    \n",
    "\n"
   ]
  },
  {
   "cell_type": "code",
   "execution_count": 9,
   "id": "3b779b10",
   "metadata": {},
   "outputs": [
    {
     "name": "stderr",
     "output_type": "stream",
     "text": [
      "[Stage 5:>                                                          (0 + 1) / 1]\r"
     ]
    },
    {
     "name": "stdout",
     "output_type": "stream",
     "text": [
      "+--------------------+------------+-----------------------+\n",
      "|         Description|      Weapon|short_desc(Description)|\n",
      "+--------------------+------------+-----------------------+\n",
      "|Narya has the pow...|       Narya|          Narya has the|\n",
      "| Vilya was the st...|       Vilya|          Vilya was the|\n",
      "|\"Reforged from th...|     Andúril|     \"Reforged from the|\n",
      "|\"A sword in The H...|     Orcrist|            \"A sword in|\n",
      "| Legolas wielded ...|Mirkwood Bow|    Legolas wielded two|\n",
      "|Galadriel’s ring ...|       Nenya|   Galadriel’s ring had|\n",
      "|\"A sword in The H...|   Glamdring|            \"A sword in|\n",
      "|A sword wielded b...|    Aranrúth|        A sword wielded|\n",
      "|The Ring was a si...| Master Ring|           The Ring was|\n",
      "|A knife in The Ho...|       Sting|             A knife in|\n",
      "|\"The name of the ...|       Grond|           \"The name of|\n",
      "|A helmet owned an...|Dragon-helm |         A helmet owned|\n",
      "|A spear wielded b...|      Aeglos|        A spear wielded|\n",
      "|A sword that belo...|    Herugrim|           A sword that|\n",
      "|\"A black-feathere...|   Red Arrow|   \"A black-feathere...|\n",
      "|A sword forged by...|   Anglachel|         A sword forged|\n",
      "|A sword wielded b...|    Gúthwinë|        A sword wielded|\n",
      "|A bow wielded by ...|Belthronding|          A bow wielded|\n",
      "|A sword wielded b...|      Ringil|        A sword wielded|\n",
      "|An axe belonging ...|  Dramborleg|       An axe belonging|\n",
      "+--------------------+------------+-----------------------+\n",
      "\n"
     ]
    },
    {
     "name": "stderr",
     "output_type": "stream",
     "text": [
      "                                                                                \r"
     ]
    }
   ],
   "source": [
    "@udf\n",
    "def short_desc(s):\n",
    "    return  ' '.join(s.strip().split()[:3])\n",
    "Weapon.select(\"Description\", \"Weapon\", short_desc(\"Description\")).show()\n"
   ]
  },
  {
   "cell_type": "markdown",
   "id": "c5594422",
   "metadata": {},
   "source": [
    "### Expected\n",
    "![image](expected_answers/shortener_udf.png)"
   ]
  },
  {
   "cell_type": "markdown",
   "id": "6bf50397",
   "metadata": {},
   "source": [
    "\n",
    "<div align=\"right\" dir=\"auto\">\n",
    "   \n",
    "# نوشتن داده و پارتیشنینگ\n",
    "    زمانی که میخواهیم داده های حجیم را به صورت فایل هایی ذخیره کنیم  نمیتوانیم همه داده را در یک فایل بزرگ ذخیره کنیم به چند دلیل :\n",
    "-  ذخیره سازی یک فایل بزرگ باعث ؛تنها نقطه شکست میشود؛ و با حذف آن کل داده از دست میرود\n",
    "- جستجو در این یک فایل بزرگ که مرتب شده نیست دشوار و عملی نیست\n",
    "- آپدیت کردن سخت تر میشود\n",
    "پس تا حدودی حل این میشکل از راه حل های زیر استفاده میکنیم\n",
    "# پارتیشنینگ: \n",
    "-     بر اساس یک فیلد داده هارا دسته بندی میکنیم و در دایرکتوری های مختلف میریزیم این کار را اسپارک برای ما انجام میدهد\n",
    "\n",
    "    \n",
    " </div>\n",
    "  \n",
    "    \n",
    "\n"
   ]
  },
  {
   "cell_type": "markdown",
   "id": "db5b4688",
   "metadata": {},
   "source": [
    "<div align=\"right\" dir=\"rtl\">\n",
    "\n",
    "    در این بخش شما باید یک دیتاست کامل بسازید بدین شکل که دیتاست War و Weapon\n",
    "     را با یکدیگر جوین کنید سپس همه آن رکورد‌هایی که  در توضیحات اسلحه آنها کلمه sword \n",
    "    نیامده است را فیلتر کرده و برا اساس گونه شروع کننده جنگ (MinorityStart) پارتیشن کنید\n",
    "    و روی HDFS\n",
    "      در مسیر /homework3/<student_number>/output/war_without_sword بنویسید\n",
    "    و ۲۰ رکورد اول آن را نمایش دهید\n",
    "    توجه کنید فایل‌های خروجی باید از نوع JSON باشند\n",
    "    \n",
    "    \n",
    "</div>\n",
    "\n",
    "[pyspark.sql.DataFrameWriter.partitionBy](https://spark.apache.org/docs/latest/api/python/reference/pyspark.sql/api/pyspark.sql.DataFrameWriter.partitionBy.html)\n"
   ]
  },
  {
   "cell_type": "code",
   "execution_count": 10,
   "id": "73ad98d0",
   "metadata": {
    "collapsed": false,
    "jupyter": {
     "outputs_hidden": false
    }
   },
   "outputs": [
    {
     "name": "stdout",
     "output_type": "stream",
     "text": [
      "+-----------+-------------+-------------+-------------+--------------+------------+--------------------+\n",
      "|  DateOfWar|DurationOfWar|     Location|MinorityStart|TargetMinority|      Weapon|         Description|\n",
      "+-----------+-------------+-------------+-------------+--------------+------------+--------------------+\n",
      "|73361-06-05|       1005.0| TAN SON NHUT|          Elf|           Orc|Belthronding|A bow wielded by ...|\n",
      "|73362-12-26|        530.0|NAKHON PHANOM|          Elf|           Orc|Belthronding|A bow wielded by ...|\n",
      "|73363-07-28|        730.0|     UDORN AB|          Elf|        Goblin|       Nenya|Galadriel’s ring ...|\n",
      "|73360-10-08|       1240.0|       DANANG|          Orc|           Orc|Mirkwood Bow| Legolas wielded ...|\n",
      "|73362-03-08|       1005.0|  TONKIN GULF|          Elf|        Goblin|       Vilya| Vilya was the st...|\n",
      "|73362-09-12|        710.0| TAN SON NHUT|          Elf|           Orc|Belthronding|A bow wielded by ...|\n",
      "|73361-05-12|       1304.0|  TONKIN GULF|          Elf|        Goblin| Master Ring|The Ring was a si...|\n",
      "|73361-12-19|        230.0|   SAVANAKHET|       Goblin|        Goblin|  Dramborleg|An axe belonging ...|\n",
      "|73362-08-18|          0.0|  TONKIN GULF|          Elf|        Nazgul| Master Ring|The Ring was a si...|\n",
      "|73361-09-20|       1315.0|    BINH THUY|          Orc|           Orc|   Red Arrow|\"A black-feathere...|\n",
      "|73361-12-13|        318.0|     BIEN HOA|          Elf|           Orc|Mirkwood Bow| Legolas wielded ...|\n",
      "|73362-01-08|        850.0|     UDORN AB|          Elf|        Goblin|       Nenya|Galadriel’s ring ...|\n",
      "|73361-02-08|       1518.0|    BINH THUY|          Orc|           Orc|Mirkwood Bow| Legolas wielded ...|\n",
      "|73360-12-08|          0.0|     UDORN AB|          Elf|        Goblin|       Nenya|Galadriel’s ring ...|\n",
      "|73361-06-01|       1410.0| TAN SON NHUT|          Elf|           Orc|      Aeglos|A spear wielded b...|\n",
      "|73361-08-11|        805.0|  TONKIN GULF|          Elf|        Goblin| Master Ring|The Ring was a si...|\n",
      "|73362-05-07|        505.0|        PAKSE|       Goblin|        Goblin|  Dramborleg|An axe belonging ...|\n",
      "|73364-08-01|        304.0|     UDORN AB|          Elf|           Orc|       Nenya|Galadriel’s ring ...|\n",
      "|73362-02-21|       1925.0|      U TAPAO|          Elf|        Goblin|       Grond|\"The name of the ...|\n",
      "|73362-08-03|        515.0|     BIEN HOA|          Elf|           Orc|Mirkwood Bow| Legolas wielded ...|\n",
      "+-----------+-------------+-------------+-------------+--------------+------------+--------------------+\n",
      "only showing top 20 rows\n",
      "\n"
     ]
    },
    {
     "name": "stderr",
     "output_type": "stream",
     "text": [
      "                                                                                \r"
     ]
    }
   ],
   "source": [
    "spark.sql(\"select war.DateOfWar, war.DurationOfWar, war.Location, war.MinorityStart, war.TargetMinority, war.Weapon, weapon.Description  from war join weapon on war.Weapon = weapon.Weapon where Description not like '%sword%';\").show()"
   ]
  },
  {
   "cell_type": "markdown",
   "id": "fc22282b",
   "metadata": {},
   "source": [
    "### Expected\n",
    "![war without sword](expected_answers/war_without_sword.png)\n",
    "\n",
    "\n"
   ]
  },
  {
   "cell_type": "code",
   "execution_count": null,
   "id": "4f31678f",
   "metadata": {},
   "outputs": [],
   "source": [
    "spark.sql(\"select war.DateOfWar, war.DurationOfWar, war.Location, war.MinorityStart, war.TargetMinority, war.Weapon, weapon.Description  from war join weapon on war.Weapon = weapon.Weapon where Description not like '%sword%';\").write.partitionBy('MinorityStart').json(os.path.join(tempfile.mkdtemp(), '/homework3/9823010/output/war_without_sword'))"
   ]
  },
  {
   "cell_type": "markdown",
   "id": "0d9eef19",
   "metadata": {},
   "source": [
    "<div align=\"right\" dir=\"rtl\">\n",
    "    \n",
    "  ### گزارش HDFS\n",
    "    با مراجعه به HDFS UI\n",
    "    خروجی پارتیشن شده مسیر بالا را مشاهده میکنید\n",
    "     -تعداد دایرکتوری‌های ایجاد شده چندتاست و دلیل آن چیست؟ \n",
    "    -در هر دایرکتوری ایجاد شده چند فایل JSON میبینید و دلیل تعدد این فایل‌ها چیست؟\n",
    "    - چگونه میتوان از اسپارک خواست تا از تعدد این فایل‌ها جلوگیری کند و یک فایل در این مسیر‌ها بریزد؟\n",
    "    - coalesce و repartition  در اسپارک چیستند و کاربر اصلی آنها چیست؟\n",
    "</div>\n",
    "\n"
   ]
  },
  {
   "cell_type": "markdown",
   "id": "d6fec433",
   "metadata": {},
   "source": [
    "<div align=\"right\" dir=\"rtl\">\n",
    "\n",
    "    - به تعداد گونه های شروع کننده جنگ دایرکتوری داریم\n",
    "    - PySpark creates partitions that are equal to the number of CPU cores in the machine (به تعداد تعداد هسته های cpu!) تا به صورت موازی پردازش هارا انجام دهد.\n",
    "    - به کمک coalesce, repartition\n",
    "    - coalesce از پارتیشن‌های موجود برای به حداقل رساندن مقدار داده‌های شافل شده استفاده می‌کند. در صورتی که repartition پارتیشن‌های جدیدی ایجاد می‌کند و یک شافل کامل انجام می‌دهد. در نتیجه coalesce منجر به پارتیشن هایی با اندازه های مختلف می شود (گاهی پارتیشن هایی که اندازه های بسیار متفاوتی دارند) و پارتیشن مجدد منجر به پارتیشن هایی با اندازه تقریباً مساوی می شود.\n",
    "    اگر مجموعه داده‌ای را بارگذاری کرده ایم که شامل داده‌های عظیم و transformations زیادی است که به توزیع مساوی از executor نیاز دارند، باید از Repartition استفاده کنید.\n",
    "    هنگامی که همه تبدیل‌ها اعمال شدند، از Coalesce برای ذخیره همه داده‌ها در فایل‌های کمتر (تعداد فایل = تعداد پارتیشن‌ها) به جای تعداد زیادی فایل استفاده میکنیم\n",
    "    \n",
    "</div>"
   ]
  },
  {
   "cell_type": "markdown",
   "id": "5073d899",
   "metadata": {},
   "source": [
    "    # ToDo"
   ]
  },
  {
   "cell_type": "markdown",
   "id": "c779cef4",
   "metadata": {},
   "source": [
    "<div align=\"right\" dir=\"rtl\">\n",
    "\n",
    "   ## coalesce\n",
    "    همان تسک بالا را انجام دهید  ولی  سعی کنید در هر دایرکتوری پارتیشن شده تنها یک فایل JSON ریخته شود.\n",
    "    نکته:  در مسیر جدید زیر آن را بنویسید.\n",
    "    /homework3/<student_number>/output/war_without_sword_v2/\n",
    "    \n",
    "    \n",
    "</div>\n",
    "\n",
    "[pyspark.sql.DataFrame.coalesce](https://spark.apache.org/docs/3.1.1/api/python/reference/api/pyspark.sql.DataFrame.coalesce.html)\n"
   ]
  },
  {
   "cell_type": "code",
   "execution_count": null,
   "id": "0abcaae2",
   "metadata": {},
   "outputs": [],
   "source": [
    "spark.sql(\"select war.DateOfWar, war.DurationOfWar, war.Location, war.MinorityStart, war.TargetMinority, war.Weapon, weapon.Description  from war join weapon on war.Weapon = weapon.Weapon where Description not like '%sword%';\").repartition(1, 'MinorityStart').write.partitionBy('MinorityStart').json(os.path.join(tempfile.mkdtemp(), '/homework3/9823010/output/war_without_sword_single_file'))"
   ]
  },
  {
   "cell_type": "code",
   "execution_count": null,
   "id": "7b1f68dc",
   "metadata": {},
   "outputs": [],
   "source": [
    "spark.sql(\"select war.DateOfWar, war.DurationOfWar, war.Location, war.MinorityStart, war.TargetMinority, war.Weapon, weapon.Description  from war join weapon on war.Weapon = weapon.Weapon where Description not like '%sword%';\").coalesce(1).write.partitionBy('MinorityStart').json(os.path.join(tempfile.mkdtemp(), '/homework3/9823010/output/war_without_sword_single_file'))"
   ]
  },
  {
   "cell_type": "code",
   "execution_count": null,
   "id": "7f54c75e",
   "metadata": {},
   "outputs": [],
   "source": []
  }
 ],
 "metadata": {
  "kernelspec": {
   "display_name": "Python 3 (ipykernel)",
   "language": "python",
   "name": "python3"
  },
  "language_info": {
   "codemirror_mode": {
    "name": "ipython",
    "version": 3
   },
   "file_extension": ".py",
   "mimetype": "text/x-python",
   "name": "python",
   "nbconvert_exporter": "python",
   "pygments_lexer": "ipython3",
   "version": "3.9.2"
  }
 },
 "nbformat": 4,
 "nbformat_minor": 5
}
